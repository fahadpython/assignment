{
 "cells": [
  {
   "cell_type": "raw",
   "id": "e5421237",
   "metadata": {},
   "source": [
    "1 . print the count of each character in your name in an dictionary format \n",
    "\n",
    "ex :\n",
    "input = sai kamal \n",
    "output = {s=1 , a = 3 , i = 1 , ' ' = 1 , k = 1 , m = 1 , l = 1}"
   ]
  },
  {
   "cell_type": "code",
   "execution_count": 2,
   "id": "0b22f94a",
   "metadata": {},
   "outputs": [
    {
     "name": "stdout",
     "output_type": "stream",
     "text": [
      "{'s': 1, 'a': 3, 'i': 1, ' ': 1, 'k': 1, 'm': 1, 'l': 1}\n"
     ]
    }
   ],
   "source": [
    "input = 'sai kamal' \n",
    "a = {}\n",
    "for i in input :\n",
    "    if i in a :\n",
    "        a[i] += 1\n",
    "    else :\n",
    "        a[i] = 1\n",
    "print(a)"
   ]
  },
  {
   "cell_type": "raw",
   "id": "71d35bd0",
   "metadata": {},
   "source": [
    "2 . Python program to find the area of a triangle whose sides are given"
   ]
  },
  {
   "cell_type": "code",
   "execution_count": 2,
   "id": "c03d90c8",
   "metadata": {},
   "outputs": [
    {
     "name": "stdout",
     "output_type": "stream",
     "text": [
      "enter the first side : 12\n",
      "enter the second side : 10\n",
      "enter the third side : 12\n",
      "The area of the triangle is  359.20 square units\n"
     ]
    }
   ],
   "source": [
    "a = float(input('enter the first side : '))\n",
    "b = float(input('enter the second side : '))\n",
    "c = float(input('enter the third side : '))\n",
    "s = a+b+c/2\n",
    "\n",
    "ans = (s*(s-a) * (s-b) * (s-c)) ** 0.5\n",
    "print(f\"The area of the triangle is {ans : .2f} square units\")"
   ]
  },
  {
   "cell_type": "raw",
   "id": "0c1eff09",
   "metadata": {},
   "source": [
    "3 . Python program to find out the average of a set of integers"
   ]
  },
  {
   "cell_type": "code",
   "execution_count": 3,
   "id": "7de6acc3",
   "metadata": {},
   "outputs": [
    {
     "name": "stdout",
     "output_type": "stream",
     "text": [
      "The average of the numbers is 6.00\n"
     ]
    }
   ],
   "source": [
    "a = [ 4,5,3,7,8,9]\n",
    "total = 0\n",
    "for i in a : \n",
    "    total += i\n",
    "average = total/len(a)\n",
    "print(f\"The average of the numbers is {average:.2f}\")"
   ]
  },
  {
   "cell_type": "raw",
   "id": "29df69bc",
   "metadata": {},
   "source": [
    "4 . Python program to display the given integer in reverse manner"
   ]
  },
  {
   "cell_type": "code",
   "execution_count": 8,
   "id": "157ed470",
   "metadata": {},
   "outputs": [
    {
     "name": "stdout",
     "output_type": "stream",
     "text": [
      "enter a integer123456\n",
      "the reverse of 123456 is 654321\n"
     ]
    }
   ],
   "source": [
    "a = input('enter a integer')\n",
    "b = a[ : :-1]\n",
    "print(f\"the reverse of {a} is {b}\")"
   ]
  },
  {
   "cell_type": "raw",
   "id": "957fffc8",
   "metadata": {},
   "source": [
    "5 . Python program to find the sum of the digits of an integer using while loop"
   ]
  },
  {
   "cell_type": "code",
   "execution_count": 4,
   "id": "fd734841",
   "metadata": {},
   "outputs": [
    {
     "name": "stdout",
     "output_type": "stream",
     "text": [
      "enter a number1234\n",
      "the sum of integer's digits 1234 is 10\n"
     ]
    }
   ],
   "source": [
    "a = input('enter a number')\n",
    "b = 0\n",
    "for i in a :\n",
    "    b += int(i) \n",
    "print(f\"the sum of integer's digits {a} is {b}\")"
   ]
  },
  {
   "cell_type": "raw",
   "id": "18d62095",
   "metadata": {},
   "source": [
    "6 . Python program to generate the prime numbers from 1 to 100"
   ]
  },
  {
   "cell_type": "code",
   "execution_count": 9,
   "id": "f7ed8f24",
   "metadata": {},
   "outputs": [
    {
     "name": "stdout",
     "output_type": "stream",
     "text": [
      "the primes no form 1 to 100 are : [2, 3, 5, 7, 11, 13, 17, 19, 23, 29, 31, 37, 41, 43, 47, 53, 59, 61, 67, 71, 73, 79, 83, 89, 97]\n"
     ]
    }
   ],
   "source": [
    "primes = []\n",
    "for n in range(2,101) :\n",
    "    prime = True\n",
    "    for i in range (2,int(n ** 0.5) + 1) :\n",
    "        if n % i == 0 :\n",
    "            prime = False\n",
    "            break\n",
    "    if prime :\n",
    "        primes.append(n)\n",
    "print(f\"the primes no form 1 to 100 are : {primes}\")\n",
    "        \n",
    " "
   ]
  },
  {
   "cell_type": "raw",
   "id": "53ede651",
   "metadata": {},
   "source": [
    "7 . Python program to find the factorial of a number "
   ]
  },
  {
   "cell_type": "code",
   "execution_count": 3,
   "id": "0724d877",
   "metadata": {},
   "outputs": [
    {
     "name": "stdout",
     "output_type": "stream",
     "text": [
      "enter a integer to know its factorial : 5\n",
      " the factorial of the integer 5 is 120\n"
     ]
    }
   ],
   "source": [
    "def factorial(n):\n",
    "    if n < 0 :\n",
    "        return 0\n",
    "    elif n == 0 or n ==1 :\n",
    "        return 1\n",
    "    fact = 1\n",
    "    for i in range(2 , n+1) :\n",
    "        fact*=i \n",
    "    return fact\n",
    "\n",
    "number = int(input('enter a integer to know its factorial : '))\n",
    "print(f\" the factorial of the integer {number} is {factorial(number)}\")\n",
    "    "
   ]
  },
  {
   "cell_type": "raw",
   "id": "8794b6ed",
   "metadata": {},
   "source": [
    "8 . Python program to check whether a string is palindrome or not"
   ]
  },
  {
   "cell_type": "code",
   "execution_count": 18,
   "id": "81554708",
   "metadata": {},
   "outputs": [
    {
     "name": "stdout",
     "output_type": "stream",
     "text": [
      "enter a stringdad\n",
      "it is a palindrome \n"
     ]
    }
   ],
   "source": [
    "inputi = input(\"enter a string : \")\n",
    "\n",
    "    \n",
    "if inputi == inputi[ : : -1] :\n",
    "    print (\"it is a palindrome \" )\n",
    "else :\n",
    "    print(\"it is not a palindrome\")\n"
   ]
  },
  {
   "cell_type": "raw",
   "id": "8ad9741f",
   "metadata": {},
   "source": [
    "9 . Write a Python function to convert a given string to all uppercase if it contains at least 2 uppercase characters in the first 4 characters"
   ]
  },
  {
   "cell_type": "code",
   "execution_count": 21,
   "id": "e913e614",
   "metadata": {},
   "outputs": [
    {
     "name": "stdout",
     "output_type": "stream",
     "text": [
      "enter a string WheRe \n",
      "WHERE \n"
     ]
    }
   ],
   "source": [
    "string = input('enter a string ')\n",
    "count = 0\n",
    "a = string[0:4]\n",
    "for i in a :\n",
    "    if i.isupper():\n",
    "        count += 1\n",
    "if count >= 2 :\n",
    "    print(string.upper())\n",
    "else :\n",
    "    print(string)\n",
    "\n"
   ]
  },
  {
   "cell_type": "raw",
   "id": "f667276e",
   "metadata": {},
   "source": [
    "10 . Write a Python program to move spaces to the front of a given string\n",
    "ex:\n",
    "input = sai kamal\n",
    "output = ' saikamal'"
   ]
  },
  {
   "cell_type": "code",
   "execution_count": 10,
   "id": "895657a7",
   "metadata": {},
   "outputs": [
    {
     "name": "stdout",
     "output_type": "stream",
     "text": [
      "saikamal\n"
     ]
    }
   ],
   "source": [
    "input = 'sai kamal'\n",
    "a = input.( ' ' , '')\n",
    "print(a)\n"
   ]
  },
  {
   "cell_type": "code",
   "execution_count": 24,
   "id": "35ecb849",
   "metadata": {},
   "outputs": [
    {
     "name": "stdout",
     "output_type": "stream",
     "text": [
      "  saikamal\n"
     ]
    }
   ],
   "source": [
    "def removespaces(str) :\n",
    "    str = 'sai kamal'\n",
    "    c = str.count(' ')\n",
    "    str = str.replace( ' ' , '')\n",
    "    str = '  '*c + str\n",
    "    print(str)\n",
    "\n",
    "str = ('sai kamal')\n",
    "removespaces(str)"
   ]
  },
  {
   "cell_type": "raw",
   "id": "bf02aa26",
   "metadata": {},
   "source": [
    "11 .  Write a Python program to count Uppercase, Lowercase, special character and numeric values in a given string."
   ]
  },
  {
   "cell_type": "code",
   "execution_count": 1,
   "id": "2f294c58",
   "metadata": {
    "scrolled": true
   },
   "outputs": [
    {
     "name": "stdout",
     "output_type": "stream",
     "text": [
      "enter a string gsfdhfgjk3456\n",
      "count of Uppercase, Lowercase, special character and numeric values in a given string is \n",
      "uppercase = 0 \n",
      "lowercase = 9 \n",
      "number = 4 \n",
      "special characters = 13 \n"
     ]
    }
   ],
   "source": [
    "string = str(input(\"enter a string \"))\n",
    "countu = 0\n",
    "countl = 0\n",
    "counts = 0\n",
    "countn = 0\n",
    "for i in  range(len(string)) :\n",
    "    ch = string[i]\n",
    "    if ch.isupper() :\n",
    "        countu += 1\n",
    "    if ch.islower() :\n",
    "        countl += 1\n",
    "    if ch.isalnum() :\n",
    "        counts += 1\n",
    "    if ch.isdigit() :\n",
    "        countn += 1\n",
    "print(f'count of Uppercase, Lowercase, special character and numeric values in a given string is \\nuppercase = {countu} \\nlowercase = {countl} \\nnumber = {countn} \\nspecial characters = {counts} ')    \n"
   ]
  }
 ],
 "metadata": {
  "kernelspec": {
   "display_name": "Python 3 (ipykernel)",
   "language": "python",
   "name": "python3"
  },
  "language_info": {
   "codemirror_mode": {
    "name": "ipython",
    "version": 3
   },
   "file_extension": ".py",
   "mimetype": "text/x-python",
   "name": "python",
   "nbconvert_exporter": "python",
   "pygments_lexer": "ipython3",
   "version": "3.10.9"
  }
 },
 "nbformat": 4,
 "nbformat_minor": 5
}

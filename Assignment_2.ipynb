{
 "cells": [
  {
   "cell_type": "raw",
   "id": "144f8dd9",
   "metadata": {},
   "source": [
    "1 . Print the input text without vowels \n",
    "\n",
    "input = 'hai'\n",
    "\n",
    "Expected output = h"
   ]
  },
  {
   "cell_type": "code",
   "execution_count": 19,
   "id": "6d800656",
   "metadata": {},
   "outputs": [
    {
     "name": "stdout",
     "output_type": "stream",
     "text": [
      "Expected output = h\n"
     ]
    }
   ],
   "source": [
    "input = 'hai'\n",
    "vowels = 'aeiouAEIOU'\n",
    "expected_output = ''\n",
    "for i in input : \n",
    "    if i  not in vowels :\n",
    "        expected_output += i \n",
    "print('Expected output =' ,expected_output)\n",
    "        "
   ]
  },
  {
   "cell_type": "raw",
   "id": "9f0cbac6",
   "metadata": {},
   "source": [
    "2 . Print only vowels from the text \n",
    "\n",
    "input = data \n",
    "\n",
    "Expected output = aa"
   ]
  },
  {
   "cell_type": "code",
   "execution_count": 31,
   "id": "c4ebd83d",
   "metadata": {},
   "outputs": [
    {
     "name": "stdout",
     "output_type": "stream",
     "text": [
      "Expected output = aa\n"
     ]
    }
   ],
   "source": [
    "input = 'data' \n",
    "output = ''\n",
    "vowels = 'aeiou'\n",
    "for i in input : \n",
    "    if i in vowels :\n",
    "        output += i \n",
    "print('Expected output =',output)"
   ]
  },
  {
   "cell_type": "raw",
   "id": "6cbfe6e1",
   "metadata": {},
   "source": [
    "3 . print each valu from the list with its index \n",
    "\n",
    "\n",
    "input = [10,11,50,34]\n",
    "\n",
    "Expected output = [100 , 111 , 502 , 343]"
   ]
  },
  {
   "cell_type": "code",
   "execution_count": 34,
   "id": "8b083603",
   "metadata": {},
   "outputs": [
    {
     "name": "stdout",
     "output_type": "stream",
     "text": [
      "100\n",
      "111\n",
      "502\n",
      "343\n"
     ]
    }
   ],
   "source": [
    "input = [10,11,50,34]\n",
    "for i , item in enumerate(input) :\n",
    "    print(str(item)  +  str(i) )\n",
    "    "
   ]
  },
  {
   "cell_type": "raw",
   "id": "de670ddc",
   "metadata": {},
   "source": [
    "4 . This is a Python Program to print all integers that aren’t divisible by either 2 or 3 and lies between 1 and 50."
   ]
  },
  {
   "cell_type": "code",
   "execution_count": 83,
   "id": "1bf03dee",
   "metadata": {},
   "outputs": [
    {
     "name": "stdout",
     "output_type": "stream",
     "text": [
      "[1, 5, 7, 11, 13, 17, 19, 23, 25, 29, 31, 35, 37, 41, 43, 47, 49]\n"
     ]
    }
   ],
   "source": [
    "ans = []\n",
    "for i in range (1,51) :\n",
    "    if i % 2 != 0 and i % 3 != 0 :\n",
    "        ans.append(i)\n",
    "print(ans)"
   ]
  },
  {
   "cell_type": "raw",
   "id": "9f9b54af",
   "metadata": {},
   "source": [
    "5 . The program takes in an integer and prints the smallest divisor of the integer.\n"
   ]
  },
  {
   "cell_type": "code",
   "execution_count": 4,
   "id": "d9c3742e",
   "metadata": {},
   "outputs": [
    {
     "name": "stdout",
     "output_type": "stream",
     "text": [
      "enter a no : 67\n",
      "smallest divisor of 67 is 67\n"
     ]
    }
   ],
   "source": [
    "inputi = int(input('enter a no : '))\n",
    "for i in range(2, int(inputi) + 1) :\n",
    "    if inputi % i == 0 :\n",
    "        ans = i\n",
    "        break\n",
    "print(\"smallest divisor of\" ,inputi, \"is\" , ans)\n",
    "\n"
   ]
  },
  {
   "cell_type": "raw",
   "id": "fe7c7e96",
   "metadata": {},
   "source": [
    "6 . Write a Python program to check if it is a strong number or not ."
   ]
  },
  {
   "cell_type": "code",
   "execution_count": 1,
   "id": "37ac9e19",
   "metadata": {},
   "outputs": [
    {
     "name": "stdout",
     "output_type": "stream",
     "text": [
      "enter a no : 141\n",
      "no  141  is not a strong no\n"
     ]
    }
   ],
   "source": [
    "import numpy\n",
    "number =int(input('enter a no : '))\n",
    "first = []\n",
    "second = []\n",
    "third =[]\n",
    "new = str(number)\n",
    "a = new[0]\n",
    "b = new[1]\n",
    "c = new[2]\n",
    "for i in range (int(a),0, -1 ) :\n",
    "    first.append(i)\n",
    "for i in range (int(b),0, -1 ) :\n",
    "    second.append(i)\n",
    "for i in range (int(c),0, -1 ) :\n",
    "    third.append(i)\n",
    "\n",
    "\n",
    "if int(number)==numpy.prod(first)+numpy.prod(second) + numpy.prod(third) :\n",
    "    print(\"no \",number,\" is a strong no\")\n",
    "else :\n",
    "    print(\"no \",number,\" is not a strong no\")\n",
    "    \n",
    "\n"
   ]
  },
  {
   "cell_type": "raw",
   "id": "6fccfd65",
   "metadata": {},
   "source": [
    "7 . Write a Python program that takes input from the user and displays that input back in upper and lower cases."
   ]
  },
  {
   "cell_type": "code",
   "execution_count": 10,
   "id": "1e28a3ab",
   "metadata": {},
   "outputs": [
    {
     "name": "stdout",
     "output_type": "stream",
     "text": [
      "write somethingqwerty\n",
      "QWERTY\n",
      "qwerty\n"
     ]
    }
   ],
   "source": [
    "write = input(\"write something\")\n",
    "x = write.upper()\n",
    "y = write.lower()\n",
    "print(x)\n",
    "print(y)"
   ]
  },
  {
   "cell_type": "raw",
   "id": "8e92ebb5",
   "metadata": {},
   "source": [
    "8 . Write a Python program to remove spaces from a given string"
   ]
  },
  {
   "cell_type": "code",
   "execution_count": 13,
   "id": "7ec3138b",
   "metadata": {},
   "outputs": [
    {
     "name": "stdout",
     "output_type": "stream",
     "text": [
      "writeapythoncode\n"
     ]
    }
   ],
   "source": [
    "given = \"write a python code\"\n",
    "a = given.replace(' ', '')\n",
    "print(a)"
   ]
  },
  {
   "cell_type": "raw",
   "id": "0b1bc8da",
   "metadata": {},
   "source": [
    "9 . Write a Python program to capitalize first and last letters of each word of a given string."
   ]
  },
  {
   "cell_type": "code",
   "execution_count": 23,
   "id": "70d12c14",
   "metadata": {},
   "outputs": [
    {
     "name": "stdout",
     "output_type": "stream",
     "text": [
      "write a string : hi my name is fahad\n"
     ]
    },
    {
     "data": {
      "text/plain": [
       "'Hi my name is fahaD'"
      ]
     },
     "execution_count": 23,
     "metadata": {},
     "output_type": "execute_result"
    }
   ],
   "source": [
    "given = input(\"write a string : \")\n",
    "given[0].upper()+given[1:len(given)-1]+given[-1].upper()"
   ]
  },
  {
   "cell_type": "raw",
   "id": "77b5cd36",
   "metadata": {},
   "source": [
    "10 . write a python program to find length of a string but should not use len keyword "
   ]
  },
  {
   "cell_type": "code",
   "execution_count": 40,
   "id": "16bc6965",
   "metadata": {},
   "outputs": [
    {
     "name": "stdout",
     "output_type": "stream",
     "text": [
      "write a string : stringstringstring\n",
      "length of the string is  17\n"
     ]
    }
   ],
   "source": [
    "def length_string(string) :\n",
    "    string = input('write a string : ')\n",
    "    for index, value in enumerate(string) :\n",
    "        a = (index)\n",
    "    print(\"length of the string is \" ,a)\n",
    "\n",
    "length_string(string)\n",
    "    \n",
    "\n",
    "#length = a.count()\n",
    "#print(length)"
   ]
  },
  {
   "cell_type": "code",
   "execution_count": null,
   "id": "b42acdbc",
   "metadata": {},
   "outputs": [],
   "source": []
  }
 ],
 "metadata": {
  "kernelspec": {
   "display_name": "Python 3 (ipykernel)",
   "language": "python",
   "name": "python3"
  },
  "language_info": {
   "codemirror_mode": {
    "name": "ipython",
    "version": 3
   },
   "file_extension": ".py",
   "mimetype": "text/x-python",
   "name": "python",
   "nbconvert_exporter": "python",
   "pygments_lexer": "ipython3",
   "version": "3.10.9"
  }
 },
 "nbformat": 4,
 "nbformat_minor": 5
}
